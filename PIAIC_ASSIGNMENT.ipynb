{
 "cells": [
  {
   "cell_type": "markdown",
   "metadata": {},
   "source": [
    "# Calculate Area of a Circle"
   ]
  },
  {
   "cell_type": "code",
   "execution_count": 4,
   "metadata": {},
   "outputs": [
    {
     "name": "stdout",
     "output_type": "stream",
     "text": [
      "Enter radius:2.5\n",
      "Area is: 15.707963267948966\n"
     ]
    }
   ],
   "source": [
    "import math\n",
    "radius = float(input(\"Enter radius:\"))\n",
    "Area = 2 * math.pi * radius\n",
    "print(\"Area is:\",Area)"
   ]
  },
  {
   "cell_type": "markdown",
   "metadata": {},
   "source": [
    "# Check Number either positive, negative or zero"
   ]
  },
  {
   "cell_type": "code",
   "execution_count": 5,
   "metadata": {},
   "outputs": [
    {
     "name": "stdout",
     "output_type": "stream",
     "text": [
      "Check Number either positive, negative or zero\n",
      "**********************************************\n",
      "Enter a Number:0\n",
      "Your Number is zero\n"
     ]
    }
   ],
   "source": [
    "print(\"Check Number either positive, negative or zero\")\n",
    "print(\"**********************************************\")\n",
    "\n",
    "\n",
    "number = input(\"Enter a Number:\")\n",
    "try:\n",
    "    number = float(number)\n",
    "    if number > 0:\n",
    "        print(\"Your Number is positive\")\n",
    "    elif number <0: \n",
    "        print(\"Your Number is negative\")\n",
    "    else:\n",
    "        number == 0\n",
    "        print(\"Your Number is zero\")\n",
    "except:\n",
    "    print(\"Kindly enter number not a string or character \")\n",
    "\n"
   ]
  },
  {
   "cell_type": "markdown",
   "metadata": {},
   "source": [
    "# Divisibility Check of two numbers"
   ]
  },
  {
   "cell_type": "code",
   "execution_count": 5,
   "metadata": {},
   "outputs": [
    {
     "name": "stdout",
     "output_type": "stream",
     "text": [
      "Divisibility Check of two numbers\n",
      "*********************************\n",
      "Enter Numerator:15\n",
      "Enter Denominator:3\n",
      "Number is completely divisible\n"
     ]
    }
   ],
   "source": [
    "print(\"Divisibility Check of two numbers\")\n",
    "print(\"*********************************\")\n",
    "numerator   = input(\"Enter Numerator:\")\n",
    "denominator = input(\"Enter Denominator:\")\n",
    "result      = int(numerator)%int(denominator)\n",
    "if result == 0:\n",
    "    print(\"Number is completely divisible\")\n",
    "else:\n",
    "    print(\"Number is not divisible\")\n"
   ]
  },
  {
   "cell_type": "markdown",
   "metadata": {},
   "source": [
    "# Days Calculator"
   ]
  },
  {
   "cell_type": "code",
   "execution_count": 1,
   "metadata": {},
   "outputs": [
    {
     "name": "stdout",
     "output_type": "stream",
     "text": [
      "******Days Calculator******\n",
      "Enter 1st date [DD/MM/YYYY]:10/01/2019\n",
      "Enter 2nd date [DD/MM/YYYY]:11/05/2019\n",
      "There are 121 Days in between 10/01/2019 and 11/05/2019\n"
     ]
    }
   ],
   "source": [
    "print(\"******Days Calculator******\")\n",
    "import datetime\n",
    "\n",
    "def no_days(date1,date2):\n",
    "    return (date2-date1).days\n",
    "  \n",
    "date1st = input(\"Enter 1st date [DD/MM/YYYY]:\")\n",
    "date2nd = input(\"Enter 2nd date [DD/MM/YYYY]:\")\n",
    "y= date1st.split('/')\n",
    "x= date2nd.split('/')\n",
    "d1,m1,y1=int(y[0]),int(y[1]),int(y[2])\n",
    "d2,m2,y2=int(x[0]),int(x[1]),int(x[2])\n",
    "date1= datetime.date(y1,m1,d1)\n",
    "date2= datetime.date(y2,m2,d2)\n",
    "print(\"There are\",no_days(date1,date2),\"Days in between\",date1st, \"and\",date2nd)\n",
    "\n"
   ]
  },
  {
   "cell_type": "markdown",
   "metadata": {},
   "source": [
    "# Calculate Volume of a sphere"
   ]
  },
  {
   "cell_type": "code",
   "execution_count": 4,
   "metadata": {},
   "outputs": [
    {
     "name": "stdout",
     "output_type": "stream",
     "text": [
      "*******Volume of sphere*******\n",
      "Enter radius:1\n",
      "Volume of sphere is: 4.19\n"
     ]
    }
   ],
   "source": [
    "print(\"*******Volume of sphere*******\")\n",
    "import math\n",
    "radius= float(input(\"Enter radius:\"))\n",
    "volume = round(4/3*(math.pi*(radius**3)),2)\n",
    "print(\"Volume of sphere is:\",volume)"
   ]
  },
  {
   "cell_type": "markdown",
   "metadata": {},
   "source": [
    "# Copy string n times"
   ]
  },
  {
   "cell_type": "code",
   "execution_count": 1,
   "metadata": {},
   "outputs": [
    {
     "name": "stdout",
     "output_type": "stream",
     "text": [
      "******String n times******\n",
      "Enter string:Hi\n",
      "How many copies you need:4\n",
      "4 copies of Hi are: HiHiHiHi\n"
     ]
    }
   ],
   "source": [
    "print(\"******String n times******\")\n",
    "try:\n",
    "    variable = str(input(\"Enter string:\"))\n",
    "    value = int(input(\"How many copies you need:\"))\n",
    "    print(value,\"copies of\",variable,\"are:\",variable*value)\n",
    "except:\n",
    "    print(\"Please enter correct value\")"
   ]
  },
  {
   "cell_type": "markdown",
   "metadata": {},
   "source": [
    "# Check if number is Even or Odd\n"
   ]
  },
  {
   "cell_type": "code",
   "execution_count": 60,
   "metadata": {},
   "outputs": [
    {
     "name": "stdout",
     "output_type": "stream",
     "text": [
      "******Check if number is Even or Odd******\n",
      "Enter number:8\n",
      "8 is even\n"
     ]
    }
   ],
   "source": [
    "print(\"******Check if number is Even or Odd******\")\n",
    "number = int(input(\"Enter number:\"))\n",
    "if number%2 == 0:\n",
    "    print(number,\"is even\")\n",
    "else:\n",
    "    print(number,\"is odd\")"
   ]
  },
  {
   "cell_type": "markdown",
   "metadata": {},
   "source": [
    "# Vowel Tester"
   ]
  },
  {
   "cell_type": "code",
   "execution_count": 50,
   "metadata": {},
   "outputs": [
    {
     "name": "stdout",
     "output_type": "stream",
     "text": [
      "*******Vowel Tester*******\n",
      "Enter a vowel:A\n",
      "Letter A is a vowel\n"
     ]
    }
   ],
   "source": [
    "print(\"*******Vowel Tester*******\")\n",
    "\n",
    "vowel=[\"A\",\"E\",\"I\",\"O\",\"U\",\"a\",\"e\",\"i\",\"o\",\"u\"]\n",
    "value = str(input(\"Enter a vowel:\"))\n",
    "for a in vowel:\n",
    "    if a == value:\n",
    "        print(\"Letter\",a,\"is a vowel\")\n",
    "        break\n",
    "else:\n",
    "    print(\"Letter\",value,\"is not a vowel\")"
   ]
  },
  {
   "cell_type": "markdown",
   "metadata": {},
   "source": [
    "# Triangle area\n",
    "\n",
    "\n",
    "        \n",
    "    \n",
    "    "
   ]
  },
  {
   "cell_type": "code",
   "execution_count": 6,
   "metadata": {},
   "outputs": [
    {
     "name": "stdout",
     "output_type": "stream",
     "text": [
      "******Area of Triangle******\n",
      "Enter magnitude of Base:4\n",
      "Enter magnitude of Height:4\n",
      "Area of triangle with Height 4.0 and Base 4.0 is 8\n"
     ]
    }
   ],
   "source": [
    "print(\"******Area of Triangle******\")\n",
    "base = float(input(\"Enter magnitude of Base:\"))\n",
    "height = float(input('Enter magnitude of Height:'))\n",
    "Area = int((1/2)*(base*height))\n",
    "print(\"Area of triangle with Height\",height,\"and Base\", base,\"is\",Area)"
   ]
  },
  {
   "cell_type": "markdown",
   "metadata": {},
   "source": [
    "# Calculate Interest\n",
    "\n",
    "        \n",
    "    \n",
    "    "
   ]
  },
  {
   "cell_type": "code",
   "execution_count": 2,
   "metadata": {},
   "outputs": [],
   "source": [
    "def Interest(principle, rate, time):     #here rate entered is already divided by 100\n",
    "    Interest = principle * (pow((1 + rate ), time))\n",
    "    return (Interest)"
   ]
  },
  {
   "cell_type": "code",
   "execution_count": 5,
   "metadata": {},
   "outputs": [
    {
     "name": "stdout",
     "output_type": "stream",
     "text": [
      "*******Interest Calculation*******\n",
      "Please Enter principal amount:10000\n",
      "Please Enter Rate of interest in %:0.1\n",
      "Enter number of years for investment:5\n",
      "After 5 years your principal amount 10000 over an interest rate of 0.1 % will be 16105.1\n"
     ]
    }
   ],
   "source": [
    "print(\"*******Interest Calculation*******\")\n",
    "\n",
    " #for calculation of interest on the basis of function\n",
    "\n",
    "principle = int(input(\"Please Enter principal amount:\"))\n",
    "rate      = float(input(\"Please Enter Rate of interest in %:\"))\n",
    "time      = int(input(\"Enter number of years for investment:\"))\n",
    "\n",
    "future_value = round(Interest(principle,rate,time),1)\n",
    "\n",
    "print(\"After\",time,\"years your principal amount\",principle,\"over an interest rate of\",rate,\"% will be\",future_value)\n",
    "\n",
    " \n",
    "\n",
    "\n",
    "\n",
    "\n"
   ]
  },
  {
   "cell_type": "markdown",
   "metadata": {},
   "source": [
    "# Euclidean distance\n"
   ]
  },
  {
   "cell_type": "code",
   "execution_count": 22,
   "metadata": {},
   "outputs": [
    {
     "name": "stdout",
     "output_type": "stream",
     "text": [
      "******Euclidean distance******\n",
      "Enter Co-ordinate for x1:2\n",
      "Enter Co-ordinate for x2:4\n",
      "Enter Co-ordinate for y1:4\n",
      "Enter Co-ordinate for y2:4\n",
      "Distance between points ( 2 , 4 ) and ( 4 , 4 ) is 2\n"
     ]
    }
   ],
   "source": [
    "print(\"******Euclidean distance******\")\n",
    "import math\n",
    "x1 = int(input(\"Enter Co-ordinate for x1:\"))\n",
    "x2 = int(input(\"Enter Co-ordinate for x2:\"))\n",
    "y1 = int(input(\"Enter Co-ordinate for y1:\"))\n",
    "y2 = int(input(\"Enter Co-ordinate for y2:\"))\n",
    "\n",
    "distance = round(math.sqrt(pow((x2-x1),2)+pow((y2-y1),2)))\n",
    "print(\"Distance between points\",\"(\",x1,\",\",y1,\")\",\"and\",\"(\",x2,\",\",y2,\")\",\"is\",int(distance))"
   ]
  },
  {
   "cell_type": "markdown",
   "metadata": {},
   "source": [
    "# Feet to Centimeter Converter"
   ]
  },
  {
   "cell_type": "code",
   "execution_count": 23,
   "metadata": {},
   "outputs": [
    {
     "name": "stdout",
     "output_type": "stream",
     "text": [
      "******Feet to Centimeter Converter******\n",
      "Enter Height in Feet:5\n",
      "There are 152.4 Cm in 5 ft\n"
     ]
    }
   ],
   "source": [
    "print(\"******Feet to Centimeter Converter******\")\n",
    "Height  = int(input(\"Enter Height in Feet:\"))\n",
    "HEIG_CM = round((Height * 30.48),1)\n",
    "print(\"There are\",HEIG_CM,\"Cm in\",Height,\"ft\")"
   ]
  },
  {
   "cell_type": "markdown",
   "metadata": {},
   "source": [
    "# BMI Calculator"
   ]
  },
  {
   "cell_type": "code",
   "execution_count": 30,
   "metadata": {},
   "outputs": [
    {
     "name": "stdout",
     "output_type": "stream",
     "text": [
      "*******BMI Calculator*******\n",
      "Enter Height in Cm:180\n",
      "Enter Weight in Kg:75\n",
      "Your BMI is 23.15\n"
     ]
    }
   ],
   "source": [
    "print(\"*******BMI Calculator*******\")\n",
    "\n",
    "height = (float(input(\"Enter Height in Cm:\"))/100)\n",
    "weight = float(input(\"Enter Weight in Kg:\"))\n",
    "BMI = round(weight/pow(height,2),2)\n",
    "print(\"Your BMI is\",BMI)"
   ]
  },
  {
   "cell_type": "markdown",
   "metadata": {},
   "source": [
    "# Sum of n Positive Integers"
   ]
  },
  {
   "cell_type": "code",
   "execution_count": 37,
   "metadata": {},
   "outputs": [],
   "source": [
    "def SUM_NUM(number):\n",
    "    sum = (n*(n+1)/2)\n",
    "    return sum"
   ]
  },
  {
   "cell_type": "code",
   "execution_count": 40,
   "metadata": {},
   "outputs": [
    {
     "name": "stdout",
     "output_type": "stream",
     "text": [
      "*******Sum of n Positive Integers*******\n",
      "Enter value of n:5\n",
      "Sum of n Positive integers till 5 is 15\n"
     ]
    }
   ],
   "source": [
    "print(\"*******Sum of n Positive Integers*******\")\n",
    "\n",
    "n = int(input(\"Enter value of n:\"))\n",
    "SUM = int(SUM_NUM(n))\n",
    "print(\"Sum of n Positive integers till\",n,\"is\",SUM)    \n"
   ]
  },
  {
   "cell_type": "markdown",
   "metadata": {},
   "source": [
    "# Digits Sum of a Number"
   ]
  },
  {
   "cell_type": "code",
   "execution_count": 9,
   "metadata": {},
   "outputs": [
    {
     "name": "stdout",
     "output_type": "stream",
     "text": [
      "*******Digits Sum of a Number*******\n",
      "Enter a number: 584\n",
      "The sum of digits of number is 17\n"
     ]
    }
   ],
   "source": [
    "print(\"*******Digits Sum of a Number*******\")\n",
    "\n",
    "\n",
    "\n",
    "num = int(input(\"Enter a number: \"))\n",
    "digits=str(num)\n",
    "\n",
    "if len(digits) < 2:\n",
    "    raise Exception(\"Enter double digit number\")\n",
    "    \n",
    "sum = 0\n",
    "while num > 0:\n",
    "    d = num%10\n",
    "    num = num//10\n",
    "    sum += d \n",
    "print(\"The sum of digits of number is\",sum)\n",
    "\n"
   ]
  },
  {
   "cell_type": "markdown",
   "metadata": {},
   "source": [
    "# Decimal to Binary Converter"
   ]
  },
  {
   "cell_type": "code",
   "execution_count": 32,
   "metadata": {},
   "outputs": [],
   "source": [
    "def binary_converter(number):\n",
    "    return bin(number).replace(\"0b\",\"\")"
   ]
  },
  {
   "cell_type": "code",
   "execution_count": 33,
   "metadata": {},
   "outputs": [
    {
     "name": "stdout",
     "output_type": "stream",
     "text": [
      "*******Decimal to Binary Converter*******\n",
      "Enter a Decimal number:5\n",
      "Binary Representation of 5 is 101\n"
     ]
    }
   ],
   "source": [
    "\n",
    "print(\"*******Decimal to Binary Converter*******\")\n",
    "number = int(input(\"Enter a Decimal number:\"))\n",
    "\n",
    "\n",
    "print(\"Binary Representation of\",number,\"is\",binary_converter(number))\n",
    "\n"
   ]
  },
  {
   "cell_type": "markdown",
   "metadata": {},
   "source": [
    "# Another method"
   ]
  },
  {
   "cell_type": "code",
   "execution_count": 28,
   "metadata": {},
   "outputs": [
    {
     "name": "stdout",
     "output_type": "stream",
     "text": [
      "*******Decimal to Binary Converter*******\n",
      "Enter a decimal number:32\n",
      "Binary Representation of 32 is 100000\n"
     ]
    }
   ],
   "source": [
    "print(\"*******Decimal to Binary Converter*******\")\n",
    "number = int(input(\"Enter a decimal number:\"))\n",
    "\n",
    "num = bin(number)\n",
    "print(\"Binary Representation of\",number,\"is\",num[2:])\n"
   ]
  },
  {
   "cell_type": "markdown",
   "metadata": {},
   "source": [
    "#  Binary to Decimal Converter"
   ]
  },
  {
   "cell_type": "code",
   "execution_count": 37,
   "metadata": {},
   "outputs": [
    {
     "name": "stdout",
     "output_type": "stream",
     "text": [
      "********binary number to Decimal number********\n",
      "Enter a Binary number:1001\n",
      "Decimal Representation of 1001 is 9\n"
     ]
    }
   ],
   "source": [
    "print(\"********binary number to Decimal number********\")\n",
    "number = (input(\"Enter a Binary number:\"))\n",
    "print(\"Decimal Representation of\",number,\"is\",int(number,2))"
   ]
  },
  {
   "cell_type": "markdown",
   "metadata": {},
   "source": [
    "# Vowel and Consonants Counter"
   ]
  },
  {
   "cell_type": "code",
   "execution_count": 28,
   "metadata": {},
   "outputs": [
    {
     "name": "stdout",
     "output_type": "stream",
     "text": [
      "*******Vowels and Consonants counter*******\n",
      "Enter Text:QuickBrownFoxJumpsovertheDog\n",
      "vowels: 9\n",
      "consonants:19"
     ]
    }
   ],
   "source": [
    "print(\"*******Vowels and Consonants counter*******\")\n",
    "text = str(input(\"Enter Text:\"))\n",
    "vowels = 0\n",
    "consonants = 0\n",
    "v = [\"A\",\"E\",\"I\",\"O\",\"U\",\"a\",\"e\",\"i\",\"o\",\"u\"]\n",
    "for i in text:\n",
    "    if i in v:\n",
    "        vowels += 1\n",
    "    else:\n",
    "        consonants +=1\n",
    "print(\"vowels:\",vowels,end='\\n'\"consonants:\"+str(consonants))"
   ]
  },
  {
   "cell_type": "markdown",
   "metadata": {},
   "source": [
    "# Palindrome tester"
   ]
  },
  {
   "cell_type": "code",
   "execution_count": 50,
   "metadata": {},
   "outputs": [
    {
     "name": "stdout",
     "output_type": "stream",
     "text": [
      "*******Palindrome tester*******\n",
      "Enter Text:AHA\n",
      "Text AHA is Palindrome\n"
     ]
    }
   ],
   "source": [
    "print(\"*******Palindrome tester*******\")\n",
    "text = input(\"Enter Text:\")\n",
    "text = text.upper()\n",
    "string = reversed(text)\n",
    "if list(text) == list(string):\n",
    "    print(\"Text\",text,\"is Palindrome\")\n",
    "else:\n",
    "    print(\"Text\",text,\"is not a Palindrome\")"
   ]
  },
  {
   "cell_type": "code",
   "execution_count": 51,
   "metadata": {},
   "outputs": [
    {
     "name": "stdout",
     "output_type": "stream",
     "text": [
      "*******Program Console Sample 2*******\n",
      "Enter Text:Hello\n",
      "Text HELLO is not a Palindrome\n"
     ]
    }
   ],
   "source": [
    "print(\"*******Program Console Sample 2*******\")\n",
    "text = input(\"Enter Text:\")\n",
    "text = text.upper()\n",
    "string = reversed(text)\n",
    "if list(text) == list(string):\n",
    "    print(\"Text\",text,\"is Palindrome\")\n",
    "else:\n",
    "    print(\"Text\",text,\"is not a Palindrome\")"
   ]
  },
  {
   "cell_type": "markdown",
   "metadata": {},
   "source": [
    "# Count Alphabets, Numbers and Special Characters"
   ]
  },
  {
   "cell_type": "code",
   "execution_count": 60,
   "metadata": {},
   "outputs": [
    {
     "name": "stdout",
     "output_type": "stream",
     "text": [
      "********Count Alphabets, Numbers and Special Characters********\n",
      "Enter text:Python 3.2\n",
      "Numbers:2\n",
      "Alphabets:6\n",
      "Special Characters:1\n",
      "Spaces:1\n"
     ]
    }
   ],
   "source": [
    "print(\"********Count Alphabets, Numbers and Special Characters********\")\n",
    "varchar = input(\"Enter text:\")\n",
    "char=0\n",
    "num=0\n",
    "space =0\n",
    "spc_char=0\n",
    "for i in varchar:\n",
    "    if i.isalpha():\n",
    "        char += 1\n",
    "    elif i.isdigit():\n",
    "        num += 1\n",
    "    elif i.isspace():\n",
    "        space+=1\n",
    "    else:\n",
    "        spc_char +=1\n",
    "\n",
    "print(\"Numbers:\"+str(num),\"Alphabets:\"+str(char),\"Special Characters:\"+str(spc_char),\"Spaces:\"+str(space),sep='\\n')       "
   ]
  },
  {
   "cell_type": "markdown",
   "metadata": {},
   "source": [
    "# Write a Python program to construct the following pattern"
   ]
  },
  {
   "cell_type": "code",
   "execution_count": 24,
   "metadata": {},
   "outputs": [
    {
     "name": "stdout",
     "output_type": "stream",
     "text": [
      "* \r\n",
      "* * \r\n",
      "* * * \r\n",
      "* * * * \r\n",
      "* * * * * \r\n",
      "* * * * \r\n",
      "* * * \r\n",
      "* * \r\n",
      "* \r\n",
      "\r\n"
     ]
    }
   ],
   "source": [
    "\n",
    "for i in range(0, 5):\n",
    "    \n",
    "        for a in range(0,i+1):\n",
    "            print(\"*\" ,end=\" \")\n",
    "        print(\"\\r\")\n",
    "for i in range(5,0,-1):\n",
    "        for a in range(0,i-1):\n",
    "            print(\"*\", end = \" \")\n",
    "        print(\"\\r\")"
   ]
  },
  {
   "cell_type": "markdown",
   "metadata": {},
   "source": [
    "# Write a Python program to construct the following pattern"
   ]
  },
  {
   "cell_type": "code",
   "execution_count": 15,
   "metadata": {},
   "outputs": [
    {
     "name": "stdout",
     "output_type": "stream",
     "text": [
      "1 \n",
      "\n",
      "1 2 \n",
      "\n",
      "1 2 3 \n",
      "\n",
      "1 2 3 4 \n",
      "\n",
      "1 2 3 4 5 \n",
      "\n",
      "1 2 3 4 \n",
      "\n",
      "1 2 3 \n",
      "\n",
      "1 2 \n",
      "\n",
      "1 \n",
      "\n",
      "\n",
      "\n"
     ]
    }
   ],
   "source": [
    "for i in range(1, 6):\n",
    "    \n",
    "        for a in range(1,i+1):\n",
    "            print(a ,end=\" \")\n",
    "        print(\"\\n\")\n",
    "for i in range(6,1,-1):\n",
    "        for a in range(1,i-1):\n",
    "            print(a, end = \" \")\n",
    "        print(\"\\n\")"
   ]
  },
  {
   "cell_type": "markdown",
   "metadata": {},
   "source": [
    "# Write a Python program to construct the following pattern"
   ]
  },
  {
   "cell_type": "code",
   "execution_count": 21,
   "metadata": {},
   "outputs": [
    {
     "name": "stdout",
     "output_type": "stream",
     "text": [
      "1 \n",
      "\n",
      "2 2 \n",
      "\n",
      "3 3 3 \n",
      "\n",
      "4 4 4 4 \n",
      "\n",
      "5 5 5 5 5 \n",
      "\n",
      "6 6 6 6 6 6 \n",
      "\n",
      "7 7 7 7 7 7 7 \n",
      "\n",
      "8 8 8 8 8 8 8 8 \n",
      "\n",
      "9 9 9 9 9 9 9 9 9 \n",
      "\n"
     ]
    }
   ],
   "source": [
    "for i in range(1, 10,1):\n",
    "    \n",
    "        for a in range(1,i+1):\n",
    "            print(i ,end=\" \")\n",
    "        print(\"\\n\")"
   ]
  },
  {
   "cell_type": "markdown",
   "metadata": {},
   "source": [
    "# "
   ]
  },
  {
   "cell_type": "markdown",
   "metadata": {},
   "source": [
    "# Rough"
   ]
  },
  {
   "cell_type": "markdown",
   "metadata": {},
   "source": [
    "# ============================================================================================================================="
   ]
  },
  {
   "cell_type": "markdown",
   "metadata": {},
   "source": [
    "# WORK"
   ]
  },
  {
   "cell_type": "code",
   "execution_count": 46,
   "metadata": {},
   "outputs": [
    {
     "name": "stdout",
     "output_type": "stream",
     "text": [
      "UMAR\n"
     ]
    }
   ],
   "source": [
    "name=\"Umar\"\n",
    "name = name.upper()\n",
    "print(name)"
   ]
  },
  {
   "cell_type": "code",
   "execution_count": 1,
   "metadata": {},
   "outputs": [
    {
     "name": "stdout",
     "output_type": "stream",
     "text": [
      "Enter 1st date [DD-MM-YYYY]:11-12-2019\n",
      "Incorrect date format, should be DD-MM-YYYY\n"
     ]
    }
   ],
   "source": [
    "import datetime\n",
    "try:\n",
    "    date1st=datetime.datetime.strptime(input(\"Enter 1st date [DD-MM-YYYY]:\"),'%d-%m-%Y')\n",
    "    y= date1st.split('-')\n",
    "    d1,m1,y1=int(y[0]),int(y[1]),int(y[2])\n",
    "    print(d1,m1,y1)\n",
    "except:\n",
    "    print((\"Incorrect date format, should be DD-MM-YYYY\"))\n",
    "\n",
    "\n"
   ]
  },
  {
   "cell_type": "code",
   "execution_count": null,
   "metadata": {},
   "outputs": [],
   "source": []
  },
  {
   "cell_type": "code",
   "execution_count": 2,
   "metadata": {},
   "outputs": [
    {
     "name": "stdout",
     "output_type": "stream",
     "text": [
      "************Pattern Creation************\n",
      "Enter number to create pattern:7\n",
      "0 \n",
      "0 1 \n",
      "0 1 2 \n",
      "0 1 2 3 \n",
      "0 1 2 3 4 \n",
      "0 1 2 3 4 5 \n",
      "0 1 2 3 4 5 6 \n",
      "0 1 2 3 4 5 \n",
      "0 1 2 3 4 \n",
      "0 1 2 3 \n",
      "0 1 2 \n",
      "0 1 \n",
      "0 \n",
      "\n"
     ]
    }
   ],
   "source": [
    "print(\"************Pattern Creation************\")\n",
    "num = input(\"Enter number to create pattern:\")\n",
    "try:\n",
    "    value = int(num)\n",
    "    for i in range(0, value):\n",
    "        for a in range(0,i+1):\n",
    "            print(a,end=\" \")\n",
    "        print(\"\\r\")\n",
    "    for i in range(value,0,-1):\n",
    "        for a in range(0,i-1):\n",
    "            print(a, end = \" \")\n",
    "        print(\"\\r\")\n",
    "    \n",
    "except:\n",
    "    print(\"Entered value is not a number, kindly enter a number to proceed\")"
   ]
  },
  {
   "cell_type": "code",
   "execution_count": 16,
   "metadata": {},
   "outputs": [
    {
     "name": "stdout",
     "output_type": "stream",
     "text": [
      "0 \r\n",
      "0 1 \r\n",
      "0 1 2 \r\n",
      "0 1 2 3 \r\n",
      "0 1 2 3 4 \r\n",
      "0 1 2 3 4 5 \r\n",
      "0 1 2 3 4 5 6 \r\n",
      "0 1 2 3 4 5 6 7 \r\n",
      "0 1 2 3 4 5 6 \r\n",
      "0 1 2 3 4 5 \r\n",
      "0 1 2 3 4 \r\n",
      "0 1 2 3 \r\n",
      "0 1 2 \r\n",
      "0 1 \r\n",
      "0 \r\n",
      "\r\n"
     ]
    }
   ],
   "source": [
    "def phonebook():\n",
    "    num = input(\"ENTER 10 DIGITS NUMBER/PHONENUMBER : \")\n",
    "    print('{}-{}-{}'.format(num[:3],num[3:6],num[6:]))\n",
    "phonebook()"
   ]
  }
 ],
 "metadata": {
  "kernelspec": {
   "display_name": "Python 3",
   "language": "python",
   "name": "python3"
  },
  "language_info": {
   "codemirror_mode": {
    "name": "ipython",
    "version": 3
   },
   "file_extension": ".py",
   "mimetype": "text/x-python",
   "name": "python",
   "nbconvert_exporter": "python",
   "pygments_lexer": "ipython3",
   "version": "3.7.3"
  }
 },
 "nbformat": 4,
 "nbformat_minor": 2
}
